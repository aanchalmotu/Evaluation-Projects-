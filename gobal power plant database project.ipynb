{
 "cells": [
  {
   "cell_type": "markdown",
   "id": "ad828c13",
   "metadata": {},
   "source": [
    "# Global Power Plant Database"
   ]
  },
  {
   "cell_type": "raw",
   "id": "aeb1ce09",
   "metadata": {},
   "source": [
    "Import Necessary Libraries"
   ]
  },
  {
   "cell_type": "code",
   "execution_count": 2,
   "id": "f6b0a4c6",
   "metadata": {},
   "outputs": [],
   "source": [
    "import pandas as pd\n",
    "import numpy as np\n",
    "import matplotlib.pyplot as plt\n",
    "import seaborn as sns\n",
    "from sklearn.model_selection import train_test_split\n",
    "from sklearn.preprocessing import LabelEncoder\n",
    "from sklearn.linear_model import LinearRegression\n",
    "from sklearn.ensemble import RandomForestRegressor, RandomForestClassifier\n",
    "from sklearn.metrics import mean_squared_error, classification_report, confusion_matrix\n"
   ]
  },
  {
   "cell_type": "raw",
   "id": "1ca540db",
   "metadata": {},
   "source": [
    " Load the Data"
   ]
  },
  {
   "cell_type": "code",
   "execution_count": 37,
   "id": "e0b3cc7f",
   "metadata": {},
   "outputs": [
    {
     "name": "stdout",
     "output_type": "stream",
     "text": [
      "  country              country_long                            name  \\\n",
      "0     USA  United States of America  10 Briggs Solar NG  LLC (East)   \n",
      "1     USA  United States of America      100 Brook Hill Drive Solar   \n",
      "2     USA  United States of America      1001 Ebenezer Church Solar   \n",
      "3     USA  United States of America             1008 Matthews Solar   \n",
      "4     USA  United States of America               1009 Yadkin Solar   \n",
      "\n",
      "    gppd_idnr  capacity_mw  latitude  longitude primary_fuel other_fuel1  \\\n",
      "0  USA0062781          0.0   41.6327   -71.4963          NaN         NaN   \n",
      "1  USA0063292          2.0   41.0930   -73.9828        Solar         NaN   \n",
      "2  USA0063444          0.0   36.2838   -80.8434          NaN         NaN   \n",
      "3  USA0063447          0.0   36.2167   -80.5525          NaN         NaN   \n",
      "4  USA0063445          0.0   36.1475   -80.6561          NaN         NaN   \n",
      "\n",
      "  other_fuel2  ... year_of_capacity_data  generation_gwh_2013  \\\n",
      "0         NaN  ...                2019.0                  NaN   \n",
      "1         NaN  ...                2019.0                  NaN   \n",
      "2         NaN  ...                2019.0                  NaN   \n",
      "3         NaN  ...                2019.0                  NaN   \n",
      "4         NaN  ...                2019.0                  NaN   \n",
      "\n",
      "  generation_gwh_2014 generation_gwh_2015 generation_gwh_2016  \\\n",
      "0                 NaN                 NaN                 NaN   \n",
      "1                 NaN                 NaN                 NaN   \n",
      "2                 NaN                 NaN                 NaN   \n",
      "3                 NaN                 NaN                 NaN   \n",
      "4                 NaN                 NaN                 NaN   \n",
      "\n",
      "  generation_gwh_2017  generation_gwh_2018  generation_gwh_2019  \\\n",
      "0                 NaN                  NaN                  NaN   \n",
      "1                 NaN                  NaN                2.467   \n",
      "2                 NaN                  NaN                  NaN   \n",
      "3                 NaN                  NaN                  NaN   \n",
      "4                 NaN                  NaN                  NaN   \n",
      "\n",
      "                   generation_data_source  estimated_generation_gwh  \n",
      "0                                     NaN                       NaN  \n",
      "1  U.S. Energy Information Administration                       NaN  \n",
      "2                                     NaN                       NaN  \n",
      "3                                     NaN                       NaN  \n",
      "4                                     NaN                       NaN  \n",
      "\n",
      "[5 rows x 27 columns]\n"
     ]
    }
   ],
   "source": [
    "# URLs for the datasets\n",
    "url_usa = 'https://raw.githubusercontent.com/FlipRoboTechnologies/ML_-Datasets/8f111fc0278f9a158324e726dbd5917365e50535/Global%20Power%20Plant%20Database/database_USA.csv'\n",
    "url_aus = 'https://raw.githubusercontent.com/FlipRoboTechnologies/ML_-Datasets/8f111fc0278f9a158324e726dbd5917365e50535/Global%20Power%20Plant%20Database/database_AUS.csv'\n",
    "url_ind = 'https://raw.githubusercontent.com/FlipRoboTechnologies/ML_-Datasets/8f111fc0278f9a158324e726dbd5917365e50535/Global%20Power%20Plant%20Database/database_IND.csv'\n",
    "\n",
    "# Load the datasets into DataFrames\n",
    "df_usa = pd.read_csv(url_usa)\n",
    "df_aus = pd.read_csv(url_aus)\n",
    "df_ind = pd.read_csv(url_ind)\n",
    "\n",
    "# Combine the datasets into one\n",
    "df = pd.concat([df_usa, df_aus, df_ind], ignore_index=True)\n",
    "\n",
    "# Display the first few rows of the combined dataframe\n",
    "print(df.head())\n"
   ]
  },
  {
   "cell_type": "raw",
   "id": "ab93f7af",
   "metadata": {},
   "source": [
    "his step combines three datasets (USA, AUS, IND) into one DataFrame df using pd.concat().\n",
    "The ignore_index=True parameter ensures the indices are reset after concatenation.\n",
    "The head() function is used to display the first few rows of the combined dataframe."
   ]
  },
  {
   "cell_type": "raw",
   "id": "ac74ec7f",
   "metadata": {},
   "source": [
    "Data Exploration"
   ]
  },
  {
   "cell_type": "code",
   "execution_count": 7,
   "id": "38f713fc",
   "metadata": {},
   "outputs": [
    {
     "name": "stdout",
     "output_type": "stream",
     "text": [
      "  country              country_long                            name  \\\n",
      "0     USA  United States of America  10 Briggs Solar NG  LLC (East)   \n",
      "1     USA  United States of America      100 Brook Hill Drive Solar   \n",
      "2     USA  United States of America      1001 Ebenezer Church Solar   \n",
      "3     USA  United States of America             1008 Matthews Solar   \n",
      "4     USA  United States of America               1009 Yadkin Solar   \n",
      "\n",
      "    gppd_idnr  capacity_mw  latitude  longitude primary_fuel other_fuel1  \\\n",
      "0  USA0062781          0.0   41.6327   -71.4963          NaN         NaN   \n",
      "1  USA0063292          2.0   41.0930   -73.9828        Solar         NaN   \n",
      "2  USA0063444          0.0   36.2838   -80.8434          NaN         NaN   \n",
      "3  USA0063447          0.0   36.2167   -80.5525          NaN         NaN   \n",
      "4  USA0063445          0.0   36.1475   -80.6561          NaN         NaN   \n",
      "\n",
      "  other_fuel2  ... year_of_capacity_data  generation_gwh_2013  \\\n",
      "0         NaN  ...                2019.0                  NaN   \n",
      "1         NaN  ...                2019.0                  NaN   \n",
      "2         NaN  ...                2019.0                  NaN   \n",
      "3         NaN  ...                2019.0                  NaN   \n",
      "4         NaN  ...                2019.0                  NaN   \n",
      "\n",
      "  generation_gwh_2014 generation_gwh_2015 generation_gwh_2016  \\\n",
      "0                 NaN                 NaN                 NaN   \n",
      "1                 NaN                 NaN                 NaN   \n",
      "2                 NaN                 NaN                 NaN   \n",
      "3                 NaN                 NaN                 NaN   \n",
      "4                 NaN                 NaN                 NaN   \n",
      "\n",
      "  generation_gwh_2017  generation_gwh_2018  generation_gwh_2019  \\\n",
      "0                 NaN                  NaN                  NaN   \n",
      "1                 NaN                  NaN                2.467   \n",
      "2                 NaN                  NaN                  NaN   \n",
      "3                 NaN                  NaN                  NaN   \n",
      "4                 NaN                  NaN                  NaN   \n",
      "\n",
      "                   generation_data_source  estimated_generation_gwh  \n",
      "0                                     NaN                       NaN  \n",
      "1  U.S. Energy Information Administration                       NaN  \n",
      "2                                     NaN                       NaN  \n",
      "3                                     NaN                       NaN  \n",
      "4                                     NaN                       NaN  \n",
      "\n",
      "[5 rows x 27 columns]\n",
      "        capacity_mw      latitude     longitude  commissioning_year  wepp_id  \\\n",
      "count  13292.000000  13220.000000  13220.000000        10654.000000      0.0   \n",
      "mean     117.738717     35.053213    -73.794217         1998.184904      NaN   \n",
      "std      347.169038     15.444195     62.868834           24.017781      NaN   \n",
      "min        0.000000    -42.888300   -171.712400         1896.000000      NaN   \n",
      "25%        1.500000     33.901700   -104.659875         1988.000000      NaN   \n",
      "50%        5.500000     38.389750    -87.346000         2008.000000      NaN   \n",
      "75%       52.725000     42.175125    -75.475925         2015.000000      NaN   \n",
      "max     6809.000000    425.246100    153.434100         2020.000000      NaN   \n",
      "\n",
      "       year_of_capacity_data  generation_gwh_2013  generation_gwh_2014  \\\n",
      "count                12860.0          7170.000000          7534.000000   \n",
      "mean                  2019.0           563.383222           635.739731   \n",
      "std                      0.0          2030.523760          2193.172655   \n",
      "min                   2019.0          -947.600000          -989.619000   \n",
      "25%                   2019.0             1.653075             2.018000   \n",
      "50%                   2019.0            21.384500            22.241000   \n",
      "75%                   2019.0           185.326498           217.069500   \n",
      "max                   2019.0         31431.080000         32320.917000   \n",
      "\n",
      "       generation_gwh_2015  generation_gwh_2016  generation_gwh_2017  \\\n",
      "count          7993.000000          8701.000000          9292.000000   \n",
      "mean            616.801877           561.784508           532.472482   \n",
      "std            2148.167470          2050.411295          2001.411908   \n",
      "min            -864.428000          -768.620000          -934.944000   \n",
      "25%               2.140000             2.108000             2.063750   \n",
      "50%              19.504000            15.410278            13.433861   \n",
      "75%             200.279000           173.348004           157.889688   \n",
      "max           32525.595000         32377.477000         35116.000000   \n",
      "\n",
      "       generation_gwh_2018  estimated_generation_gwh  \n",
      "count          9858.000000                       0.0  \n",
      "mean            513.679016                       NaN  \n",
      "std            1963.485305                       NaN  \n",
      "min            -982.622000                       NaN  \n",
      "25%               2.141250                       NaN  \n",
      "50%              12.308500                       NaN  \n",
      "75%             149.141249                       NaN  \n",
      "max           35136.000000                       NaN  \n",
      "country                         0\n",
      "country_long                    0\n",
      "name                            0\n",
      "gppd_idnr                       0\n",
      "capacity_mw                     6\n",
      "latitude                       78\n",
      "longitude                      78\n",
      "primary_fuel                 2004\n",
      "other_fuel1                 11670\n",
      "other_fuel2                 13028\n",
      "other_fuel3                 13206\n",
      "commissioning_year           2644\n",
      "owner                         593\n",
      "source                          0\n",
      "url                             0\n",
      "geolocation_source             23\n",
      "wepp_id                     13298\n",
      "year_of_capacity_data         438\n",
      "generation_gwh_2013          6128\n",
      "generation_gwh_2014          5764\n",
      "generation_gwh_2015          5305\n",
      "generation_gwh_2016          4597\n",
      "generation_gwh_2017          4006\n",
      "generation_gwh_2018          3440\n",
      "generation_gwh_2019          3520\n",
      "generation_data_source       2463\n",
      "estimated_generation_gwh    13298\n",
      "dtype: int64\n",
      "country                      object\n",
      "country_long                 object\n",
      "name                         object\n",
      "gppd_idnr                    object\n",
      "capacity_mw                 float64\n",
      "latitude                    float64\n",
      "longitude                   float64\n",
      "primary_fuel                 object\n",
      "other_fuel1                  object\n",
      "other_fuel2                  object\n",
      "other_fuel3                  object\n",
      "commissioning_year          float64\n",
      "owner                        object\n",
      "source                       object\n",
      "url                          object\n",
      "geolocation_source           object\n",
      "wepp_id                     float64\n",
      "year_of_capacity_data       float64\n",
      "generation_gwh_2013         float64\n",
      "generation_gwh_2014         float64\n",
      "generation_gwh_2015         float64\n",
      "generation_gwh_2016         float64\n",
      "generation_gwh_2017         float64\n",
      "generation_gwh_2018         float64\n",
      "generation_gwh_2019          object\n",
      "generation_data_source       object\n",
      "estimated_generation_gwh    float64\n",
      "dtype: object\n"
     ]
    }
   ],
   "source": [
    "# Display the first few rows of the dataframe\n",
    "print(df.head())\n",
    "\n",
    "# Get summary statistics\n",
    "print(df.describe())\n",
    "\n",
    "# Check for missing values\n",
    "print(df.isnull().sum())\n",
    "\n",
    "# Check data types\n",
    "print(df.dtypes)\n"
   ]
  },
  {
   "cell_type": "raw",
   "id": "7bfc07aa",
   "metadata": {},
   "source": [
    "The dataset contains a variety of power plants with different primary fuels and capacities.\n",
    "There are some missing values in critical columns like capacity_mw which were filled with the median for simplicity."
   ]
  },
  {
   "cell_type": "raw",
   "id": "3c9ee13e",
   "metadata": {},
   "source": [
    " Data Cleaning"
   ]
  },
  {
   "cell_type": "code",
   "execution_count": 8,
   "id": "540adb79",
   "metadata": {},
   "outputs": [],
   "source": [
    "# Fill missing values\n",
    "df['capacity_mw'].fillna(df['capacity_mw'].median(), inplace=True)\n",
    "df.fillna('Unknown', inplace=True)\n",
    "\n",
    "# Convert appropriate columns to categorical\n",
    "categorical_columns = ['country', 'primary_fuel', 'owner']\n",
    "for col in categorical_columns:\n",
    "    df[col] = df[col].astype('category')\n"
   ]
  },
  {
   "cell_type": "raw",
   "id": "6240e374",
   "metadata": {},
   "source": [
    "Encoding"
   ]
  },
  {
   "cell_type": "code",
   "execution_count": 20,
   "id": "c07d9b3d",
   "metadata": {},
   "outputs": [
    {
     "name": "stdout",
     "output_type": "stream",
     "text": [
      "                             name   gppd_idnr  capacity_mw  latitude  \\\n",
      "0  10 Briggs Solar NG  LLC (East)  USA0062781          0.0   41.6327   \n",
      "1      100 Brook Hill Drive Solar  USA0063292          2.0   41.0930   \n",
      "2      1001 Ebenezer Church Solar  USA0063444          0.0   36.2838   \n",
      "3             1008 Matthews Solar  USA0063447          0.0   36.2167   \n",
      "4               1009 Yadkin Solar  USA0063445          0.0   36.1475   \n",
      "\n",
      "   longitude  commissioning_year                                  source  \\\n",
      "0   -71.4963                 NaN  U.S. Energy Information Administration   \n",
      "1   -73.9828              2016.0  U.S. Energy Information Administration   \n",
      "2   -80.8434                 NaN  U.S. Energy Information Administration   \n",
      "3   -80.5525                 NaN  U.S. Energy Information Administration   \n",
      "4   -80.6561                 NaN  U.S. Energy Information Administration   \n",
      "\n",
      "                                            url  \\\n",
      "0  http://www.eia.gov/electricity/data/browser/   \n",
      "1  http://www.eia.gov/electricity/data/browser/   \n",
      "2  http://www.eia.gov/electricity/data/browser/   \n",
      "3  http://www.eia.gov/electricity/data/browser/   \n",
      "4  http://www.eia.gov/electricity/data/browser/   \n",
      "\n",
      "                       geolocation_source  wepp_id  ...  \\\n",
      "0  U.S. Energy Information Administration      NaN  ...   \n",
      "1  U.S. Energy Information Administration      NaN  ...   \n",
      "2  U.S. Energy Information Administration      NaN  ...   \n",
      "3  U.S. Energy Information Administration      NaN  ...   \n",
      "4  U.S. Energy Information Administration      NaN  ...   \n",
      "\n",
      "   owner_Zamil New Delhi Infrastructure Private Limited  \\\n",
      "0                                                  0      \n",
      "1                                                  0      \n",
      "2                                                  0      \n",
      "3                                                  0      \n",
      "4                                                  0      \n",
      "\n",
      "   owner_Zapco Energy Tactics Corp  owner_Zeeland Farm Services  \\\n",
      "0                                0                            0   \n",
      "1                                0                            0   \n",
      "2                                0                            0   \n",
      "3                                0                            0   \n",
      "4                                0                            0   \n",
      "\n",
      "   owner_Zero Waste Energy Development Company LLC  owner_Zion Energy LLC  \\\n",
      "0                                                0                      0   \n",
      "1                                                0                      0   \n",
      "2                                                0                      0   \n",
      "3                                                0                      0   \n",
      "4                                                0                      0   \n",
      "\n",
      "   owner_Zotos International  owner_Zumbro Garden LLC owner_Zumbro Solar LLC  \\\n",
      "0                          0                        0                      0   \n",
      "1                          0                        0                      0   \n",
      "2                          0                        0                      0   \n",
      "3                          0                        0                      0   \n",
      "4                          0                        0                      0   \n",
      "\n",
      "  owner_esVolta LP  owner_iEnergy Wind Farms  \n",
      "0                0                         0  \n",
      "1                0                         0  \n",
      "2                0                         0  \n",
      "3                0                         0  \n",
      "4                0                         0  \n",
      "\n",
      "[5 rows x 5949 columns]\n"
     ]
    }
   ],
   "source": [
    "# Convert categorical variables to numeric using one-hot encoding\n",
    "df_encoded = pd.get_dummies(df, columns=[\n",
    "    'country', 'country_long', 'primary_fuel', 'other_fuel1', \n",
    "    'other_fuel2', 'other_fuel3', 'owner'\n",
    "])\n",
    "\n",
    "# Display the first few rows of the encoded dataframe\n",
    "print(df_encoded.head())"
   ]
  },
  {
   "cell_type": "raw",
   "id": "3bc8ab25",
   "metadata": {},
   "source": [
    "Exploratory Data Analysis (EDA)"
   ]
  },
  {
   "cell_type": "code",
   "execution_count": 9,
   "id": "c2dca4da",
   "metadata": {},
   "outputs": [
    {
     "data": {
      "image/png": "[encoded data removed]",
      "text/plain": [
       "<Figure size 640x480 with 1 Axes>"
      ]
     },
     "metadata": {},
     "output_type": "display_data"
    },
    {
     "data": {
      "image/png": "[encoded data removed]",
      "text/plain": [
       "<Figure size 640x480 with 1 Axes>"
      ]
     },
     "metadata": {},
     "output_type": "display_data"
    }
   ],
   "source": [
    "# Plotting distribution of primary fuel types\n",
    "sns.countplot(y='primary_fuel', data=df)\n",
    "plt.title('Distribution of Primary Fuel Types')\n",
    "plt.show()\n",
    "\n",
    "# Plotting distribution of capacity\n",
    "plt.hist(df['capacity_mw'], bins=50)\n",
    "plt.title('Distribution of Capacity (MW)')\n",
    "plt.xlabel('Capacity (MW)')\n",
    "plt.ylabel('Frequency')\n",
    "plt.show()\n"
   ]
  },
  {
   "cell_type": "raw",
   "id": "8d20dcc7",
   "metadata": {},
   "source": [
    "the distribution of primary fuel types shows a dominance of certain fuels like coal and gas."
   ]
  },
  {
   "cell_type": "code",
   "execution_count": 13,
   "id": "c4d6a791",
   "metadata": {},
   "outputs": [
    {
     "name": "stdout",
     "output_type": "stream",
     "text": [
      "Index(['country', 'country_long', 'name', 'gppd_idnr', 'capacity_mw',\n",
      "       'latitude', 'longitude', 'primary_fuel', 'other_fuel1', 'other_fuel2',\n",
      "       'other_fuel3', 'commissioning_year', 'owner', 'source', 'url',\n",
      "       'geolocation_source', 'wepp_id', 'year_of_capacity_data',\n",
      "       'generation_gwh_2013', 'generation_gwh_2014', 'generation_gwh_2015',\n",
      "       'generation_gwh_2016', 'generation_gwh_2017', 'generation_gwh_2018',\n",
      "       'generation_gwh_2019', 'generation_data_source',\n",
      "       'estimated_generation_gwh'],\n",
      "      dtype='object')\n"
     ]
    }
   ],
   "source": [
    "print(df.columns)\n"
   ]
  },
  {
   "cell_type": "code",
   "execution_count": 14,
   "id": "33c23629",
   "metadata": {},
   "outputs": [
    {
     "name": "stdout",
     "output_type": "stream",
     "text": [
      "(13298, 17) (13298,)\n",
      "(13298, 17) (13298,)\n"
     ]
    }
   ],
   "source": [
    "# List of columns to drop if they exist in the DataFrame\n",
    "columns_to_drop_fuel = ['primary_fuel', 'name', 'gppd_idnr', 'source', 'url', 'geolocation_source', 'generation_data_source', \n",
    "                        'other_fuel1', 'other_fuel2', 'other_fuel3', \n",
    "                        'estimated_generation_note_2013', 'estimated_generation_note_2014', \n",
    "                        'estimated_generation_note_2015', 'estimated_generation_note_2016', \n",
    "                        'estimated_generation_note_2017']\n",
    "\n",
    "columns_to_drop_capacity = ['capacity_mw', 'name', 'gppd_idnr', 'source', 'url', 'geolocation_source', 'generation_data_source', \n",
    "                            'other_fuel1', 'other_fuel2', 'other_fuel3', \n",
    "                            'estimated_generation_note_2013', 'estimated_generation_note_2014', \n",
    "                            'estimated_generation_note_2015', 'estimated_generation_note_2016', \n",
    "                            'estimated_generation_note_2017']\n",
    "\n",
    "# Drop columns that exist in the DataFrame for fuel prediction\n",
    "X_fuel = df.drop(columns=[col for col in columns_to_drop_fuel if col in df.columns])\n",
    "y_fuel = df['primary_fuel']\n",
    "\n",
    "# Drop columns that exist in the DataFrame for capacity prediction\n",
    "X_capacity = df.drop(columns=[col for col in columns_to_drop_capacity if col in df.columns])\n",
    "y_capacity = df['capacity_mw']\n",
    "\n",
    "# Check the shapes of the resulting dataframes to ensure they are as expected\n",
    "print(X_fuel.shape, y_fuel.shape)\n",
    "print(X_capacity.shape, y_capacity.shape)\n"
   ]
  },
  {
   "cell_type": "raw",
   "id": "2b6f6423",
   "metadata": {},
   "source": [
    "Feature Engineering"
   ]
  },
  {
   "cell_type": "code",
   "execution_count": 16,
   "id": "67aa4fc2",
   "metadata": {},
   "outputs": [],
   "source": [
    "# Extract features and target variables for primary_fuel prediction\n",
    "X_fuel = df.drop(columns=[\n",
    "    'primary_fuel', 'name', 'gppd_idnr', 'source', 'url', 'geolocation_source', \n",
    "    'generation_data_source', 'other_fuel1', 'other_fuel2', 'other_fuel3'\n",
    "])\n",
    "y_fuel = df['primary_fuel']\n",
    "\n",
    "# Extract features and target variables for capacity_mw prediction\n",
    "X_capacity = df.drop(columns=[\n",
    "    'capacity_mw', 'name', 'gppd_idnr', 'source', 'url', 'geolocation_source', \n",
    "    'generation_data_source', 'other_fuel1', 'other_fuel2', 'other_fuel3'\n",
    "])\n",
    "y_capacity = df['capacity_mw']\n"
   ]
  },
  {
   "cell_type": "code",
   "execution_count": 21,
   "id": "7bb4261d",
   "metadata": {},
   "outputs": [
    {
     "data": {
      "text/html": [
       "<div>\n",
       "<style scoped>\n",
       "    .dataframe tbody tr th:only-of-type {\n",
       "        vertical-align: middle;\n",
       "    }\n",
       "\n",
       "    .dataframe tbody tr th {\n",
       "        vertical-align: top;\n",
       "    }\n",
       "\n",
       "    .dataframe thead th {\n",
       "        text-align: right;\n",
       "    }\n",
       "</style>\n",
       "<table border=\"1\" class=\"dataframe\">\n",
       "  <thead>\n",
       "    <tr style=\"text-align: right;\">\n",
       "      <th></th>\n",
       "      <th>country_long</th>\n",
       "      <th>capacity_mw</th>\n",
       "      <th>latitude</th>\n",
       "      <th>longitude</th>\n",
       "      <th>commissioning_year</th>\n",
       "      <th>year_of_capacity_data</th>\n",
       "      <th>generation_gwh_2013</th>\n",
       "      <th>generation_gwh_2014</th>\n",
       "      <th>generation_gwh_2015</th>\n",
       "      <th>generation_gwh_2016</th>\n",
       "      <th>...</th>\n",
       "      <th>owner_Zapco Energy Tactics Corp</th>\n",
       "      <th>owner_Zeeland Farm Services</th>\n",
       "      <th>owner_Zero Waste Energy Development Company LLC</th>\n",
       "      <th>owner_Zion Energy LLC</th>\n",
       "      <th>owner_Zotos International</th>\n",
       "      <th>owner_Zumbro Garden LLC</th>\n",
       "      <th>owner_Zumbro Solar LLC</th>\n",
       "      <th>owner_esVolta LP</th>\n",
       "      <th>owner_iEnergy Wind Farms</th>\n",
       "      <th>plant_age</th>\n",
       "    </tr>\n",
       "  </thead>\n",
       "  <tbody>\n",
       "    <tr>\n",
       "      <th>0</th>\n",
       "      <td>United States of America</td>\n",
       "      <td>0.0</td>\n",
       "      <td>41.6327</td>\n",
       "      <td>-71.4963</td>\n",
       "      <td>NaN</td>\n",
       "      <td>2019.0</td>\n",
       "      <td>NaN</td>\n",
       "      <td>NaN</td>\n",
       "      <td>NaN</td>\n",
       "      <td>NaN</td>\n",
       "      <td>...</td>\n",
       "      <td>0</td>\n",
       "      <td>0</td>\n",
       "      <td>0</td>\n",
       "      <td>0</td>\n",
       "      <td>0</td>\n",
       "      <td>0</td>\n",
       "      <td>0</td>\n",
       "      <td>0</td>\n",
       "      <td>0</td>\n",
       "      <td>NaN</td>\n",
       "    </tr>\n",
       "    <tr>\n",
       "      <th>1</th>\n",
       "      <td>United States of America</td>\n",
       "      <td>2.0</td>\n",
       "      <td>41.0930</td>\n",
       "      <td>-73.9828</td>\n",
       "      <td>2016.0</td>\n",
       "      <td>2019.0</td>\n",
       "      <td>NaN</td>\n",
       "      <td>NaN</td>\n",
       "      <td>NaN</td>\n",
       "      <td>NaN</td>\n",
       "      <td>...</td>\n",
       "      <td>0</td>\n",
       "      <td>0</td>\n",
       "      <td>0</td>\n",
       "      <td>0</td>\n",
       "      <td>0</td>\n",
       "      <td>0</td>\n",
       "      <td>0</td>\n",
       "      <td>0</td>\n",
       "      <td>0</td>\n",
       "      <td>8.0</td>\n",
       "    </tr>\n",
       "    <tr>\n",
       "      <th>2</th>\n",
       "      <td>United States of America</td>\n",
       "      <td>0.0</td>\n",
       "      <td>36.2838</td>\n",
       "      <td>-80.8434</td>\n",
       "      <td>NaN</td>\n",
       "      <td>2019.0</td>\n",
       "      <td>NaN</td>\n",
       "      <td>NaN</td>\n",
       "      <td>NaN</td>\n",
       "      <td>NaN</td>\n",
       "      <td>...</td>\n",
       "      <td>0</td>\n",
       "      <td>0</td>\n",
       "      <td>0</td>\n",
       "      <td>0</td>\n",
       "      <td>0</td>\n",
       "      <td>0</td>\n",
       "      <td>0</td>\n",
       "      <td>0</td>\n",
       "      <td>0</td>\n",
       "      <td>NaN</td>\n",
       "    </tr>\n",
       "    <tr>\n",
       "      <th>3</th>\n",
       "      <td>United States of America</td>\n",
       "      <td>0.0</td>\n",
       "      <td>36.2167</td>\n",
       "      <td>-80.5525</td>\n",
       "      <td>NaN</td>\n",
       "      <td>2019.0</td>\n",
       "      <td>NaN</td>\n",
       "      <td>NaN</td>\n",
       "      <td>NaN</td>\n",
       "      <td>NaN</td>\n",
       "      <td>...</td>\n",
       "      <td>0</td>\n",
       "      <td>0</td>\n",
       "      <td>0</td>\n",
       "      <td>0</td>\n",
       "      <td>0</td>\n",
       "      <td>0</td>\n",
       "      <td>0</td>\n",
       "      <td>0</td>\n",
       "      <td>0</td>\n",
       "      <td>NaN</td>\n",
       "    </tr>\n",
       "    <tr>\n",
       "      <th>4</th>\n",
       "      <td>United States of America</td>\n",
       "      <td>0.0</td>\n",
       "      <td>36.1475</td>\n",
       "      <td>-80.6561</td>\n",
       "      <td>NaN</td>\n",
       "      <td>2019.0</td>\n",
       "      <td>NaN</td>\n",
       "      <td>NaN</td>\n",
       "      <td>NaN</td>\n",
       "      <td>NaN</td>\n",
       "      <td>...</td>\n",
       "      <td>0</td>\n",
       "      <td>0</td>\n",
       "      <td>0</td>\n",
       "      <td>0</td>\n",
       "      <td>0</td>\n",
       "      <td>0</td>\n",
       "      <td>0</td>\n",
       "      <td>0</td>\n",
       "      <td>0</td>\n",
       "      <td>NaN</td>\n",
       "    </tr>\n",
       "  </tbody>\n",
       "</table>\n",
       "<p>5 rows × 5942 columns</p>\n",
       "</div>"
      ],
      "text/plain": [
       "               country_long  capacity_mw  latitude  longitude  \\\n",
       "0  United States of America          0.0   41.6327   -71.4963   \n",
       "1  United States of America          2.0   41.0930   -73.9828   \n",
       "2  United States of America          0.0   36.2838   -80.8434   \n",
       "3  United States of America          0.0   36.2167   -80.5525   \n",
       "4  United States of America          0.0   36.1475   -80.6561   \n",
       "\n",
       "   commissioning_year  year_of_capacity_data  generation_gwh_2013  \\\n",
       "0                 NaN                 2019.0                  NaN   \n",
       "1              2016.0                 2019.0                  NaN   \n",
       "2                 NaN                 2019.0                  NaN   \n",
       "3                 NaN                 2019.0                  NaN   \n",
       "4                 NaN                 2019.0                  NaN   \n",
       "\n",
       "   generation_gwh_2014  generation_gwh_2015  generation_gwh_2016  ...  \\\n",
       "0                  NaN                  NaN                  NaN  ...   \n",
       "1                  NaN                  NaN                  NaN  ...   \n",
       "2                  NaN                  NaN                  NaN  ...   \n",
       "3                  NaN                  NaN                  NaN  ...   \n",
       "4                  NaN                  NaN                  NaN  ...   \n",
       "\n",
       "   owner_Zapco Energy Tactics Corp  owner_Zeeland Farm Services  \\\n",
       "0                                0                            0   \n",
       "1                                0                            0   \n",
       "2                                0                            0   \n",
       "3                                0                            0   \n",
       "4                                0                            0   \n",
       "\n",
       "  owner_Zero Waste Energy Development Company LLC owner_Zion Energy LLC  \\\n",
       "0                                               0                     0   \n",
       "1                                               0                     0   \n",
       "2                                               0                     0   \n",
       "3                                               0                     0   \n",
       "4                                               0                     0   \n",
       "\n",
       "   owner_Zotos International  owner_Zumbro Garden LLC  owner_Zumbro Solar LLC  \\\n",
       "0                          0                        0                       0   \n",
       "1                          0                        0                       0   \n",
       "2                          0                        0                       0   \n",
       "3                          0                        0                       0   \n",
       "4                          0                        0                       0   \n",
       "\n",
       "   owner_esVolta LP  owner_iEnergy Wind Farms  plant_age  \n",
       "0                 0                         0        NaN  \n",
       "1                 0                         0        8.0  \n",
       "2                 0                         0        NaN  \n",
       "3                 0                         0        NaN  \n",
       "4                 0                         0        NaN  \n",
       "\n",
       "[5 rows x 5942 columns]"
      ]
     },
     "execution_count": 21,
     "metadata": {},
     "output_type": "execute_result"
    }
   ],
   "source": [
    "# Convert categorical variables to numeric\n",
    "df_encoded = pd.get_dummies(df, columns=['country', 'primary_fuel', 'other_fuel1', 'other_fuel2', 'other_fuel3', 'owner'])\n",
    "\n",
    "# Create additional features if necessary \n",
    "df_encoded['plant_age'] = 2024 - df_encoded['commissioning_year']\n",
    "\n",
    "# Drop columns that won't be used in prediction\n",
    "df_encoded.drop(['name', 'gppd_idnr', 'source', 'url', 'geolocation_source', 'wepp_id'], axis=1, inplace=True)\n",
    "\n",
    "# Display the first few rows of the encoded dataframe\n",
    "df_encoded.head()"
   ]
  },
  {
   "cell_type": "raw",
   "id": "9d3ee78d",
   "metadata": {},
   "source": [
    "Categorical variables were label-encoded to prepare for model training.\n",
    "The dataset was split into features and target variables for both prediction tasks."
   ]
  },
  {
   "cell_type": "code",
   "execution_count": 26,
   "id": "4269e1d2",
   "metadata": {},
   "outputs": [],
   "source": [
    "# Example of encoding categorical variables if needed\n",
    "categorical_cols = ['country', 'owner']  # Adjust with your actual categorical columns\n",
    "label_encoders = {}\n",
    "\n",
    "for col in categorical_cols:\n",
    "    le = LabelEncoder()\n",
    "    df[col] = le.fit_transform(df[col])\n",
    "    label_encoders[col] = le  # Store the encoder for later use if needed\n"
   ]
  },
  {
   "cell_type": "raw",
   "id": "f5469fbd",
   "metadata": {},
   "source": [
    "This step uses pd.get_dummies() to convert categorical variables into numeric using one-hot encoding.\n",
    "Columns such as country, primary_fuel, owner, etc., are converted into multiple binary columns representing each category.\n",
    "The resulting DataFrame df_encoded contains these new encoder."
   ]
  },
  {
   "cell_type": "raw",
   "id": "f432623c",
   "metadata": {},
   "source": [
    "Splitting Data into Features (X) and Targets (y)"
   ]
  },
  {
   "cell_type": "code",
   "execution_count": 27,
   "id": "eb20324a",
   "metadata": {},
   "outputs": [],
   "source": [
    "# Assuming 'primary_fuel' and 'capacity_mw' are target variables\n",
    "X = df.drop(columns=['primary_fuel', 'capacity_mw'])  # Features\n",
    "y_primary_fuel = df['primary_fuel']  # Target for primary_fuel prediction\n",
    "y_capacity_mw = df['capacity_mw']  # Target for capacity_mw prediction\n"
   ]
  },
  {
   "cell_type": "raw",
   "id": "61d025ec",
   "metadata": {},
   "source": [
    ": Train-Test Split"
   ]
  },
  {
   "cell_type": "code",
   "execution_count": 17,
   "id": "67949eee",
   "metadata": {},
   "outputs": [],
   "source": [
    "from sklearn.model_selection import train_test_split\n",
    "\n",
    "# Split data for primary_fuel prediction\n",
    "X_fuel_train, X_fuel_test, y_fuel_train, y_fuel_test = train_test_split(X_fuel, y_fuel, test_size=0.2, random_state=42)\n",
    "\n",
    "# Split data for capacity_mw prediction\n",
    "X_capacity_train, X_capacity_test, y_capacity_train, y_capacity_test = train_test_split(X_capacity, y_capacity, test_size=0.2, random_state=42)\n"
   ]
  },
  {
   "cell_type": "code",
   "execution_count": 34,
   "id": "3b9d3121",
   "metadata": {},
   "outputs": [
    {
     "name": "stdout",
     "output_type": "stream",
     "text": [
      "X_train shape: (10638, 17)\n",
      "X_test shape: (2660, 17)\n",
      "y_train shape: (10638,)\n",
      "y_test shape: (2660,)\n"
     ]
    }
   ],
   "source": [
    "# Print shapes to verify splitting\n",
    "print(\"X_train shape:\", X_train.shape)\n",
    "print(\"X_test shape:\", X_test.shape)\n",
    "print(\"y_train shape:\", y_train.shape)\n",
    "print(\"y_test shape:\", y_test.shape)"
   ]
  },
  {
   "cell_type": "raw",
   "id": "c108df0c",
   "metadata": {},
   "source": [
    "Model Training and Prediction for primary_fuel"
   ]
  },
  {
   "cell_type": "code",
   "execution_count": 1,
   "id": "d3e0a177",
   "metadata": {},
   "outputs": [],
   "source": [
    "import pandas as pd\n",
    "\n",
    "# URLs for the datasets\n",
    "url_usa = 'https://raw.githubusercontent.com/FlipRoboTechnologies/ML_-Datasets/8f111fc0278f9a158324e726dbd5917365e50535/Global%20Power%20Plant%20Database/database_USA.csv'\n",
    "url_aus = 'https://raw.githubusercontent.com/FlipRoboTechnologies/ML_-Datasets/8f111fc0278f9a158324e726dbd5917365e50535/Global%20Power%20Plant%20Database/database_AUS.csv'\n",
    "url_ind = 'https://raw.githubusercontent.com/FlipRoboTechnologies/ML_-Datasets/8f111fc0278f9a158324e726dbd5917365e50535/Global%20Power%20Plant%20Database/database_IND.csv'\n",
    "\n",
    "# Load the datasets into DataFrames\n",
    "df_usa = pd.read_csv(url_usa)\n",
    "df_aus = pd.read_csv(url_aus)\n",
    "df_ind = pd.read_csv(url_ind)\n",
    "\n",
    "# Combine the datasets into one\n",
    "df = pd.concat([df_usa, df_aus, df_ind], ignore_index=True)\n"
   ]
  },
  {
   "cell_type": "code",
   "execution_count": 7,
   "id": "c68da247",
   "metadata": {},
   "outputs": [],
   "source": [
    "drop_columns = ['name', 'gppd_idnr', 'source', 'url', 'geolocation_source', \n",
    "                'generation_data_source', 'other_fuel1', 'other_fuel2', \n",
    "                'other_fuel3', 'estimated_generation_note_2013', \n",
    "                'estimated_generation_note_2014', 'estimated_generation_note_2015', \n",
    "                'estimated_generation_note_2016', 'estimated_generation_note_2017']\n",
    "\n",
    "# Drop columns that exist in the DataFrame\n",
    "df = df.drop(columns=[col for col in drop_columns if col in df.columns])\n"
   ]
  },
  {
   "cell_type": "code",
   "execution_count": 8,
   "id": "016cbcba",
   "metadata": {},
   "outputs": [],
   "source": [
    "# Extract features (X) and target (y) for primary_fuel prediction\n",
    "X_primary_fuel = df.drop(columns=['primary_fuel'])\n",
    "y_primary_fuel = df['primary_fuel']\n",
    "\n",
    "# Extract features (X) and target (y) for capacity_mw prediction\n",
    "X_capacity_mw = df.drop(columns=['capacity_mw'])\n",
    "y_capacity_mw = df['capacity_mw']\n"
   ]
  },
  {
   "cell_type": "code",
   "execution_count": 16,
   "id": "6e3a63d2",
   "metadata": {},
   "outputs": [
    {
     "data": {
      "text/plain": [
       "0.0       2030\n",
       "5.0        552\n",
       "1.0        534\n",
       "2.0        479\n",
       "1.5        267\n",
       "          ... \n",
       "621.2        1\n",
       "1058.5       1\n",
       "1053.0       1\n",
       "391.5        1\n",
       "106.6        1\n",
       "Name: capacity_mw, Length: 2304, dtype: int64"
      ]
     },
     "execution_count": 16,
     "metadata": {},
     "output_type": "execute_result"
    }
   ],
   "source": [
    "# checking the list of counts of capacity_mw\n",
    "df['capacity_mw'].value_counts()"
   ]
  },
  {
   "cell_type": "raw",
   "id": "15319d0a",
   "metadata": {},
   "source": [
    "there are unique count present in capacity_mw columns"
   ]
  },
  {
   "cell_type": "code",
   "execution_count": 18,
   "id": "a4cdc1e0",
   "metadata": {},
   "outputs": [
    {
     "data": {
      "text/plain": [
       "Solar           3480\n",
       "Gas             2031\n",
       "Hydro           1783\n",
       "Wind            1340\n",
       "Oil              961\n",
       "Waste            595\n",
       "Coal             572\n",
       "Biomass          230\n",
       "Storage          104\n",
       "Nuclear           72\n",
       "Geothermal        65\n",
       "Cogeneration      34\n",
       "Other             16\n",
       "Petcoke           11\n",
       "Name: primary_fuel, dtype: int64"
      ]
     },
     "execution_count": 18,
     "metadata": {},
     "output_type": "execute_result"
    }
   ],
   "source": [
    "#checking the list of counts of primary_fuel\n",
    "df['primary_fuel'].value_counts()"
   ]
  },
  {
   "cell_type": "raw",
   "id": "4fdfe15b",
   "metadata": {},
   "source": [
    "there are the list of the values in the column primary_fuel"
   ]
  },
  {
   "cell_type": "code",
   "execution_count": 19,
   "id": "9806d219",
   "metadata": {},
   "outputs": [
    {
     "data": {
      "text/plain": [
       "array([nan, 'Solar', 'Gas', 'Oil', 'Hydro', 'Wind', 'Coal', 'Biomass',\n",
       "       'Waste', 'Storage', 'Cogeneration', 'Geothermal', 'Petcoke',\n",
       "       'Nuclear', 'Other'], dtype=object)"
      ]
     },
     "execution_count": 19,
     "metadata": {},
     "output_type": "execute_result"
    }
   ],
   "source": [
    "#checking the uniqueness of primary_fuel\n",
    "df['primary_fuel'].unique()"
   ]
  },
  {
   "cell_type": "raw",
   "id": "6e698b63",
   "metadata": {},
   "source": [
    "there are the unique classes present in the primary_fuel columns."
   ]
  },
  {
   "cell_type": "raw",
   "id": "4e6dc959",
   "metadata": {},
   "source": []
  },
  {
   "cell_type": "code",
   "execution_count": 7,
   "id": "25f13149",
   "metadata": {},
   "outputs": [],
   "source": [
    "from sklearn.model_selection import train_test_split\n",
    "from sklearn.ensemble import RandomForestRegressor, GradientBoostingRegressor, AdaBoostRegressor, BaggingRegressor\n",
    "from sklearn.tree import DecisionTreeRegressor\n",
    "from sklearn.neighbors import KNeighborsRegressor\n",
    "from sklearn.metrics import mean_squared_error\n",
    "\n",
    "# Separate features and target for capacity prediction\n",
    "X = df_encoded.drop('capacity_mw', axis=1)\n",
    "y = df_encoded['capacity_mw']\n",
    "\n",
    "# Split the data into training and testing sets\n",
    "X_train, X_test, y_train, y_test = train_test_split(X, y, test_size=0.2, random_state=42)\n"
   ]
  },
  {
   "cell_type": "code",
   "execution_count": null,
   "id": "8af4db6f",
   "metadata": {},
   "outputs": [],
   "source": [
    "from sklearn.ensemble import RandomForestRegressor\n",
    "from sklearn.metrics import mean_squared_error\n",
    "\n",
    "# Train the model\n",
    "capacity_model = RandomForestRegressor(random_state=42)\n",
    "capacity_model.fit(X_capacity_train, y_capacity_train)\n",
    "\n",
    "# Predict\n",
    "y_capacity_pred = capacity_model.predict(X_capacity_test)\n",
    "\n",
    "# Evaluate\n",
    "mse = mean_squared_error(y_capacity_test, y_capacity_pred)\n",
    "print(\"Mean Squared Error for Capacity Prediction:\", mse)\n"
   ]
  },
  {
   "cell_type": "code",
   "execution_count": null,
   "id": "aa46acbd",
   "metadata": {},
   "outputs": [],
   "source": [
    "from sklearn.ensemble import RandomForestRegressor\n",
    "from sklearn.metrics import mean_squared_error\n",
    "\n",
    "# Train the model\n",
    "capacity_model = RandomForestRegressor(random_state=42)\n",
    "capacity_model.fit(X_capacity_train, y_capacity_train)\n",
    "\n",
    "# Predict\n",
    "y_capacity_pred = capacity_model.predict(X_capacity_test)\n",
    "\n",
    "# Evaluate\n",
    "mse = mean_squared_error(y_capacity_test, y_capacity_pred)\n",
    "print(\"Mean Squared Error for Capacity Prediction:\", mse)\n"
   ]
  },
  {
   "cell_type": "raw",
   "id": "475b34c8",
   "metadata": {},
   "source": [
    "conclusion"
   ]
  },
  {
   "cell_type": "raw",
   "id": "c3d61859",
   "metadata": {},
   "source": [
    " to analyze and model data from the Global Power Plant Database, focusing on power plant attributes such as primary fuel type and capacity. The dataset includes information from multiple countries, This project highlighted the importance of:\n",
    "Data cleaning and preprocessing for machine learning tasks.\n",
    "Effective visualization techniques to understand data distributions and relationships.\n",
    "Iterative model evaluation and refinement to achieve better predictions."
   ]
  }
 ],
 "metadata": {
  "kernelspec": {
   "display_name": "Python 3 (ipykernel)",
   "language": "python",
   "name": "python3"
  },
  "language_info": {
   "codemirror_mode": {
    "name": "ipython",
    "version": 3
   },
   "file_extension": ".py",
   "mimetype": "text/x-python",
   "name": "python",
   "nbconvert_exporter": "python",
   "pygments_lexer": "ipython3",
   "version": "3.11.3"
  }
 },
 "nbformat": 4,
 "nbformat_minor": 5
}
